{
 "cells": [
  {
   "cell_type": "markdown",
   "id": "74e55be6-faec-490d-a8ba-3dcef005e6d8",
   "metadata": {},
   "source": [
    "# Scrape the data from the website \"results.eci.gov.in\""
   ]
  },
  {
   "cell_type": "code",
   "execution_count": 27,
   "id": "b0ba16bc-0bdc-452d-82ff-c840a544f146",
   "metadata": {},
   "outputs": [
    {
     "name": "stdout",
     "output_type": "stream",
     "text": [
      "Data scraped and saved to lok_sabha_results.csv\n"
     ]
    }
   ],
   "source": [
    "import requests\n",
    "from bs4 import BeautifulSoup\n",
    "import pandas as pd\n",
    "\n",
    "# List of URLs to scrape\n",
    "urls = [\n",
    "    'https://results.eci.gov.in/PcResultGenJune2024/partywisewinresultState-369.htm',\n",
    "    'https://results.eci.gov.in/PcResultGenJune2024/partywisewinresultState-742.htm',\n",
    "    'https://results.eci.gov.in/PcResultGenJune2024/partywisewinresultState-1680.htm',\n",
    "    'https://results.eci.gov.in/PcResultGenJune2024/partywisewinresultState-140.htm',\n",
    "    'https://results.eci.gov.in/PcResultGenJune2024/partywisewinresultState-582.htm',\n",
    "    'https://results.eci.gov.in/PcResultGenJune2024/partywisewinresultState-1745.htm',\n",
    "    'https://results.eci.gov.in/PcResultGenJune2024/partywisewinresultState-805.htm',\n",
    "    'https://results.eci.gov.in/PcResultGenJune2024/partywisewinresultState-3369.htm',\n",
    "    'https://results.eci.gov.in/PcResultGenJune2024/partywisewinresultState-3620.htm',\n",
    "    'https://results.eci.gov.in/PcResultGenJune2024/partywisewinresultState-3529.htm',\n",
    "    'https://results.eci.gov.in/PcResultGenJune2024/partywisewinresultState-3165.htm',\n",
    "    'https://results.eci.gov.in/PcResultGenJune2024/partywisewinresultState-1888.htm',\n",
    "    'https://results.eci.gov.in/PcResultGenJune2024/partywisewinresultState-1420.htm',\n",
    "    'https://results.eci.gov.in/PcResultGenJune2024/partywisewinresultState-547.htm',\n",
    "    'https://results.eci.gov.in/PcResultGenJune2024/partywisewinresultState-772.htm',\n",
    "    'https://results.eci.gov.in/PcResultGenJune2024/partywisewinresultState-1.htm',\n",
    "    'https://results.eci.gov.in/PcResultGenJune2024/partywisewinresultState-852.htm',\n",
    "    'https://results.eci.gov.in/PcResultGenJune2024/partywisewinresultState-860.htm',\n",
    "    'https://results.eci.gov.in/PcResultGenJune2024/partywisewinresultState-545.htm',\n",
    "    'https://results.eci.gov.in/PcResultGenJune2024/partywisewinresultState-804.htm',\n",
    "    'https://results.eci.gov.in/PcResultGenJune2024/partywisewinresultState-1847.htm',\n",
    "    'https://results.eci.gov.in/PcResultGenJune2024/partywisewinresultState-544.htm',\n",
    "    'https://results.eci.gov.in/PcResultGenJune2024/partywisewinresultState-1458.htm',\n",
    "    'https://results.eci.gov.in/PcResultGenJune2024/partywisewinresultState-834.htm',\n",
    "    'https://results.eci.gov.in/PcResultGenJune2024/partywisewinresultState-1998.htm',\n",
    "    'https://results.eci.gov.in/PcResultGenJune2024/partywisewinresultState-83.htm',\n",
    "    'https://results.eci.gov.in/PcResultGenJune2024/partywisewinresultState-664.htm',\n",
    "    'https://results.eci.gov.in/PcResultGenJune2024/partywisewinresultState-911.htm',\n",
    "    'https://results.eci.gov.in/PcResultGenJune2024/partywisewinresultState-1534.htm',\n",
    "    'https://results.eci.gov.in/PcResultGenJune2024/partywisewinresultState-1142.htm',\n",
    "    'https://results.eci.gov.in/PcResultGenJune2024/partywisewinresultState-3388.htm',\n",
    "    'https://results.eci.gov.in/PcResultGenJune2024/partywisewinresultState-2757.htm',\n",
    "    'https://results.eci.gov.in/PcResultGenJune2024/partywisewinresultState-1584.htm',\n",
    "    'https://results.eci.gov.in/PcResultGenJune2024/partywisewinresultState-2484.htm',\n",
    "    'https://results.eci.gov.in/PcResultGenJune2024/partywisewinresultState-3482.htm',\n",
    "    'https://results.eci.gov.in/PcResultGenJune2024/partywisewinresultState-1658.htm',\n",
    "    'https://results.eci.gov.in/PcResultGenJune2024/partywisewinresultState-1046.htm',\n",
    "    'https://results.eci.gov.in/PcResultGenJune2024/partywisewinresultState-2989.htm',\n",
    "    'https://results.eci.gov.in/PcResultGenJune2024/partywisewinresultState-2070.htm',\n",
    "    'https://results.eci.gov.in/PcResultGenJune2024/partywisewinresultState-160.htm',\n",
    "    'https://results.eci.gov.in/PcResultGenJune2024/partywisewinresultState-118.htm',\n",
    "    'https://results.eci.gov.in/PcResultGenJune2024/partywisewinresultState-743.htm'\n",
    "]\n",
    "\n",
    "all_data = []\n",
    "\n",
    "# Loop through each URL\n",
    "for url in urls:\n",
    "    response = requests.get(url)\n",
    "    if response.status_code == 200:\n",
    "        soup = BeautifulSoup(response.content, 'html.parser')\n",
    "        \n",
    "        # Extract the party information from span inside h2 tags\n",
    "        party_tag = soup.find('h2').find('span')\n",
    "        party = party_tag.text.strip() if party_tag else 'Unknown Party'\n",
    "        \n",
    "        # Extract the party name from the span text\n",
    "        if party.startswith(\"Winning Candidate (\") and party.endswith(\")\"):\n",
    "            party = party[len(\"Winning Candidate (\"):-1].strip()\n",
    "        \n",
    "        # Find the table\n",
    "        table = soup.find('table', {'class': 'table table-striped table-bordered'})\n",
    "        if table:\n",
    "            for row in table.find_all('tr')[1:]:  # Skip the header row\n",
    "                cols = row.find_all('td')\n",
    "                if len(cols) > 0:\n",
    "                    won = cols[1].text.strip()  # Assuming the first column is the number of seats won\n",
    "                    candidate = cols[2].text.strip()  # Third column is the candidate's name\n",
    "                    leading = cols[3].text.strip()\n",
    "                    total = cols[4].text.strip()\n",
    "                    all_data.append([party, candidate, won, leading, total])\n",
    "        else:\n",
    "            print(f\"Table not found on {url}\")\n",
    "    else:\n",
    "        print(f\"Failed to retrieve the webpage. Status code: {response.status_code}\")\n",
    "\n",
    "# Convert to DataFrame and save to CSV\n",
    "df = pd.DataFrame(all_data, columns=['Party', 'Candidate', 'Constituency', 'Total Votes', 'Margin'])\n",
    "df.to_csv('lok_sabha_results.csv', index=False)\n",
    "\n",
    "print(\"Data scraped and saved to lok_sabha_results.csv\")"
   ]
  },
  {
   "cell_type": "markdown",
   "id": "83fc839a-4f1d-4982-870f-a6e4ac6c3e2d",
   "metadata": {},
   "source": [
    "# using PySpark to clean and draw insights from the data"
   ]
  },
  {
   "cell_type": "code",
   "execution_count": 1,
   "id": "878b97e9-f3a0-41ad-961d-7349a142135d",
   "metadata": {},
   "outputs": [
    {
     "name": "stdout",
     "output_type": "stream",
     "text": [
      "/Users/bavisettisivaavinash/hadoopworker/spark-3.5.1-bin-hadoop3\n"
     ]
    }
   ],
   "source": [
    "import findspark\n",
    "findspark.init()\n",
    "print(findspark.find())"
   ]
  },
  {
   "cell_type": "code",
   "execution_count": 7,
   "id": "e3485cf0-d175-49ed-b5ec-c1bf454d1b50",
   "metadata": {},
   "outputs": [
    {
     "name": "stdout",
     "output_type": "stream",
     "text": [
      "root\n",
      " |-- Party: string (nullable = true)\n",
      " |-- Candidate: string (nullable = true)\n",
      " |-- Constituency: string (nullable = true)\n",
      " |-- Total Votes: string (nullable = true)\n",
      " |-- Margin: string (nullable = true)\n",
      "\n"
     ]
    }
   ],
   "source": [
    "from pyspark.sql import SparkSession\n",
    "spark = SparkSession.builder.appName('LokSabhaResults').getOrCreate()\n",
    "df = spark.read.csv('lok_sabha_results.csv', header=True, inferSchema=True)\n",
    "df.printSchema()"
   ]
  },
  {
   "cell_type": "markdown",
   "id": "ba3b79c4-097f-4a25-bb57-0f3e61656f79",
   "metadata": {},
   "source": [
    "# cleaning the table by:\n",
    "1. converting data type of the 'Toal Votes' and 'Margin'.\n",
    "2. separating constituency and constituency number."
   ]
  },
  {
   "cell_type": "code",
   "execution_count": 6,
   "id": "42498802-227a-47ff-8090-4775d88dc2e9",
   "metadata": {},
   "outputs": [
    {
     "name": "stdout",
     "output_type": "stream",
     "text": [
      "root\n",
      " |-- Party: string (nullable = true)\n",
      " |-- Candidate: string (nullable = true)\n",
      " |-- Constituency: string (nullable = true)\n",
      " |-- Total Votes: integer (nullable = true)\n",
      " |-- Margin: integer (nullable = true)\n",
      "\n"
     ]
    }
   ],
   "source": [
    "from pyspark.sql.functions import col\n",
    "df = df.withColumn(\"Total Votes\", col(\"Total Votes\").cast(\"integer\"))\n",
    "df = df.withColumn(\"Margin\", col(\"Margin\").cast(\"integer\"))\n",
    "df.printSchema()"
   ]
  },
  {
   "cell_type": "code",
   "execution_count": 8,
   "id": "4a2fda11-6dda-4a84-853a-12654ba2a7e8",
   "metadata": {},
   "outputs": [
    {
     "name": "stdout",
     "output_type": "stream",
     "text": [
      "+--------------------+--------------------+-----------------+-----------+------+\n",
      "|               Party|           Candidate|     Constituency|Total Votes|Margin|\n",
      "+--------------------+--------------------+-----------------+-----------+------+\n",
      "|Bharatiya Janata ...|          C.M.RAMESH|    Anakapalle(5)|     762069|296530|\n",
      "|Bharatiya Janata ...|DAGGUBATI PURANDH...|   Rajahmundry(8)|     726515|239139|\n",
      "|Bharatiya Janata ...|BHUPATHI RAJU SRI...|    Narsapuram(9)|     707343|276802|\n",
      "|Bharatiya Janata ...|        KIREN RIJIJU|Arunachal West(1)|     205417|100738|\n",
      "|Bharatiya Janata ...|           TAPIR GAO|Arunachal East(2)|     145581| 30421|\n",
      "+--------------------+--------------------+-----------------+-----------+------+\n",
      "only showing top 5 rows\n",
      "\n",
      "+--------------------+--------------------+-----------+------+-----------------+-------------------+\n",
      "|               Party|           Candidate|Total Votes|Margin|Constituency_Name|Constituency_Number|\n",
      "+--------------------+--------------------+-----------+------+-----------------+-------------------+\n",
      "|Bharatiya Janata ...|          C.M.RAMESH|     762069|296530|       Anakapalle|                  5|\n",
      "|Bharatiya Janata ...|DAGGUBATI PURANDH...|     726515|239139|      Rajahmundry|                  8|\n",
      "|Bharatiya Janata ...|BHUPATHI RAJU SRI...|     707343|276802|       Narsapuram|                  9|\n",
      "|Bharatiya Janata ...|        KIREN RIJIJU|     205417|100738|   Arunachal West|                  1|\n",
      "|Bharatiya Janata ...|           TAPIR GAO|     145581| 30421|   Arunachal East|                  2|\n",
      "+--------------------+--------------------+-----------+------+-----------------+-------------------+\n",
      "only showing top 5 rows\n",
      "\n"
     ]
    }
   ],
   "source": [
    "df.show(5)\n",
    "from pyspark.sql.functions import regexp_extract\n",
    "df = df.withColumn(\"Constituency_Name\", regexp_extract(\"Constituency\", r'(.+)\\(', 1))\n",
    "df = df.withColumn(\"Constituency_Number\", regexp_extract(\"Constituency\", r'\\((\\d+)\\)', 1))\n",
    "df = df.drop(\"Constituency\")\n",
    "df.show(5)"
   ]
  },
  {
   "cell_type": "markdown",
   "id": "5d493cc1-03e4-4f56-a4c6-947383ba9f75",
   "metadata": {},
   "source": [
    "# Insight 1: Top performing party by total votes"
   ]
  },
  {
   "cell_type": "code",
   "execution_count": 34,
   "id": "47b9d34f-b748-4511-a025-66ee7761213c",
   "metadata": {},
   "outputs": [
    {
     "name": "stdout",
     "output_type": "stream",
     "text": [
      "+--------------------+----------------+\n",
      "|               Party|sum(Total Votes)|\n",
      "+--------------------+----------------+\n",
      "|Bharatiya Janata ...|       157039540|\n",
      "|Indian National C...|        54233901|\n",
      "|All India Trinamo...|        20185370|\n",
      "|     Samajwadi Party|        18826855|\n",
      "|        Telugu Desam|        12232822|\n",
      "|Dravida Munnetra ...|        11754710|\n",
      "|Janata Dal  (United)|         6335123|\n",
      "|Nationalist Congr...|         4971873|\n",
      "|Shiv Sena (Uddhav...|         4772796|\n",
      "|           Shiv Sena|         3815530|\n",
      "|Lok Janshakti Par...|         2810250|\n",
      "|         Independent|         2421977|\n",
      "|Yuvajana Sramika ...|         2359220|\n",
      "|Communist Party o...|         2163219|\n",
      "|Rashtriya Janata Dal|         1960230|\n",
      "|Indian Union Musl...|         1716186|\n",
      "|Jharkhand Mukti M...|         1680905|\n",
      "|Janata Dal  (Secu...|         1543362|\n",
      "|      Janasena Party|         1454138|\n",
      "|Viduthalai Chirut...|          982117|\n",
      "+--------------------+----------------+\n",
      "only showing top 20 rows\n",
      "\n"
     ]
    }
   ],
   "source": [
    "top_party_by_votes = df.groupBy(\"Party\").sum(\"Total Votes\").orderBy(\"sum(Total Votes)\", ascending=False)\n",
    "top_party_by_votes.show()"
   ]
  },
  {
   "cell_type": "markdown",
   "id": "1f1ac8b8-7cc8-4595-866d-eaa81daa9738",
   "metadata": {},
   "source": [
    "# Insight 2: Candidate with the largest margin of victory"
   ]
  },
  {
   "cell_type": "code",
   "execution_count": 35,
   "id": "50eaa943-abac-4fb5-a914-1306c2730994",
   "metadata": {},
   "outputs": [
    {
     "name": "stdout",
     "output_type": "stream",
     "text": [
      "Candidate with largest margin: ANITA SUBHADARSHINI with margin 99974\n"
     ]
    }
   ],
   "source": [
    "largest_margin = df.orderBy(\"Margin\", ascending=False).first()\n",
    "print(f\"Candidate with largest margin: {largest_margin['Candidate']} with margin {largest_margin['Margin']}\")"
   ]
  },
  {
   "cell_type": "markdown",
   "id": "b31cc30d-cb8a-4028-b966-e925cacb2b6e",
   "metadata": {},
   "source": [
    "# Insight 3: Average margin by party"
   ]
  },
  {
   "cell_type": "code",
   "execution_count": 37,
   "id": "19aed5fe-b5e1-415b-afb6-1c3df51930f9",
   "metadata": {},
   "outputs": [
    {
     "name": "stdout",
     "output_type": "stream",
     "text": [
      "+--------------------+------------------+\n",
      "|               Party|       avg(Margin)|\n",
      "+--------------------+------------------+\n",
      "|Voice of the Peop...|          371910.0|\n",
      "|All India Majlis-...|          338087.0|\n",
      "|Marumalarchi Drav...|          313094.0|\n",
      "|Bharat Adivasi Party|          247054.0|\n",
      "|Jammu & Kashmir N...|          235105.0|\n",
      "|Indian Union Musl...|          234220.0|\n",
      "|Dravida Munnetra ...|          230981.0|\n",
      "|        Telugu Desam|       228807.9375|\n",
      "|      Janasena Party|          226335.0|\n",
      "|  Asom Gana Parishad|          222351.0|\n",
      "|Bharatiya Janata ...| 192809.7740585774|\n",
      "|Communist Party o...|         186559.25|\n",
      "|Janata Dal  (Secu...|          178004.0|\n",
      "|All India Trinamo...|169343.55172413794|\n",
      "|Communist Party o...|          167442.5|\n",
      "|Aazad Samaj Party...|          151473.0|\n",
      "|Revolutionary Soc...|          150302.0|\n",
      "|Lok Janshakti Par...|          144120.6|\n",
      "|Indian National C...|131372.94949494948|\n",
      "|Jharkhand Mukti M...|123064.33333333333|\n",
      "+--------------------+------------------+\n",
      "only showing top 20 rows\n",
      "\n"
     ]
    }
   ],
   "source": [
    "avg_margin_by_party = df.groupBy(\"Party\").avg(\"Margin\").orderBy(\"avg(Margin)\", ascending=False)\n",
    "avg_margin_by_party.show()"
   ]
  },
  {
   "cell_type": "markdown",
   "id": "bc8ac883-3321-4994-ba8d-4478878096d4",
   "metadata": {},
   "source": [
    "# Insight 4: Constituency with the smallest margin"
   ]
  },
  {
   "cell_type": "code",
   "execution_count": 38,
   "id": "c815a774-d60e-49a0-a7cd-fc4b771aac98",
   "metadata": {},
   "outputs": [
    {
     "name": "stdout",
     "output_type": "stream",
     "text": [
      "+--------------------+--------------------+-----------+------+-----------------+-------------------+\n",
      "|               Party|           Candidate|Total Votes|Margin|Constituency_Name|Constituency_Number|\n",
      "+--------------------+--------------------+-----------+------+-----------------+-------------------+\n",
      "|Bharatiya Janata ...|MUKESHKUMAR CHAND...|       NULL|  NULL|            Surat|                 24|\n",
      "|           Shiv Sena|RAVINDRA DATTARAM...|     452644|    48|Mumbai North West|                 27|\n",
      "+--------------------+--------------------+-----------+------+-----------------+-------------------+\n",
      "only showing top 2 rows\n",
      "\n"
     ]
    }
   ],
   "source": [
    "smallest_margin = df.orderBy(\"Margin\").show(2)"
   ]
  },
  {
   "cell_type": "markdown",
   "id": "196c0b0b-6ac7-4066-a62f-126e97d572c9",
   "metadata": {},
   "source": [
    "# Insight 6: Top candidates by total votes"
   ]
  },
  {
   "cell_type": "code",
   "execution_count": 39,
   "id": "6e5672f6-99ff-4af5-97a7-9b2abc4851cc",
   "metadata": {},
   "outputs": [
    {
     "name": "stdout",
     "output_type": "stream",
     "text": [
      "+--------------------+--------------------+-----------+-------+-----------------+-------------------+\n",
      "|               Party|           Candidate|Total Votes| Margin|Constituency_Name|Constituency_Number|\n",
      "+--------------------+--------------------+-----------+-------+-----------------+-------------------+\n",
      "|Indian National C...|     RAKIBUL HUSSAIN|    1471885|1012476|          Dhubri |                  2|\n",
      "|Bharatiya Janata ...|     SHANKAR LALWANI|    1226751|1175092|           INDORE|                 26|\n",
      "|Bharatiya Janata ...|SHIVRAJ SINGH CHO...|    1116460| 821408|          VIDISHA|                 18|\n",
      "|Bharatiya Janata ...|    DR C N MANJUNATH|    1079002| 269647|  Bangalore Rural|                 23|\n",
      "|Bharatiya Janata ...|   BRIJMOHAN AGRAWAL|    1050351| 575285|           RAIPUR|                  8|\n",
      "+--------------------+--------------------+-----------+-------+-----------------+-------------------+\n",
      "\n"
     ]
    }
   ],
   "source": [
    "top_candidates_by_votes = df.orderBy(\"Total Votes\", ascending=False).limit(5)\n",
    "top_candidates_by_votes.show()"
   ]
  },
  {
   "cell_type": "markdown",
   "id": "504c7b8a-35c0-4438-8907-f067b85ad4dd",
   "metadata": {},
   "source": [
    "# Insight 7: Competitive constituencies (margin < 50000)"
   ]
  },
  {
   "cell_type": "code",
   "execution_count": 40,
   "id": "fe966ec8-7258-4b47-bf65-d1e84e02f461",
   "metadata": {},
   "outputs": [
    {
     "name": "stdout",
     "output_type": "stream",
     "text": [
      "+--------------------+--------------------+-----------+------+--------------------+-------------------+\n",
      "|               Party|           Candidate|Total Votes|Margin|   Constituency_Name|Constituency_Number|\n",
      "+--------------------+--------------------+-----------+------+--------------------+-------------------+\n",
      "|Bharatiya Janata ...|           TAPIR GAO|     145581| 30421|      Arunachal East|                  2|\n",
      "|Bharatiya Janata ...|    KRIPANATH MALLAH|     545093| 18360|           Karimganj|                  7|\n",
      "|Bharatiya Janata ...| PRADEEP KUMAR SINGH|     600146| 20094|              Araria|                  9|\n",
      "|Bharatiya Janata ...|   RAJIV PRATAP RUDY|     471752| 13661|               Saran|                 20|\n",
      "|Bharatiya Janata ...|DABHI  BHARATSINH...|     591947| 31876|               Patan|                  3|\n",
      "|Bharatiya Janata ...|       NAVEEN JINDAL|     542175| 29021|         KURUKSHETRA|                  2|\n",
      "|Bharatiya Janata ...|     DHARAMBIR SINGH|     588664| 41510|BHIWANI-MAHENDRAGARH|                  8|\n",
      "|Bharatiya Janata ...|    BASAVARAJ BOMMAI|     705538| 43513|              Haveri|                 10|\n",
      "|Bharatiya Janata ...|GOVIND MAKTHAPPA ...|     684890| 48121|         Chitradurga|                 18|\n",
      "|Bharatiya Janata ...|           P C MOHAN|     658915| 32707|   Bangalore central|                 25|\n",
      "|Bharatiya Janata ...|  ANUP SANJAY DHOTRE|     457030| 40626|               Akola|                  6|\n",
      "|Bharatiya Janata ...|SHRIMANT CHH UDAY...|     571134| 32771|              Satara|                 45|\n",
      "|Bharatiya Janata ...|   NARAYAN TATU RANE|     448514| 47858|Ratnagiri- Sindhu...|                 46|\n",
      "|Bharatiya Janata ...|RABINDRA NARAYAN ...|     534239|  1587|              Jajpur|                  8|\n",
      "|Bharatiya Janata ...|SUKANTA KUMAR PAN...|     416415| 21371|           Kandhamal|                 13|\n",
      "|Bharatiya Janata ...|  BIBHU PRASAD TARAI|     589093| 40696|       Jagatsinghpur|                 16|\n",
      "|Bharatiya Janata ...|   APARAJITA SARANGI|     512519| 35152|         Bhubaneswar|                 18|\n",
      "|Bharatiya Janata ...|  RAO RAJENDRA SINGH|     617877|  1615|        JAIPUR RURAL|                  6|\n",
      "|Bharatiya Janata ...|     BHUPENDER YADAV|     631992| 48282|               ALWAR|                  8|\n",
      "|Bharatiya Janata ...|            OM BIRLA|     750496| 41974|                KOTA|                 24|\n",
      "+--------------------+--------------------+-----------+------+--------------------+-------------------+\n",
      "only showing top 20 rows\n",
      "\n"
     ]
    }
   ],
   "source": [
    "competitive_constituencies = df.filter(df.Margin < 50000)\n",
    "competitive_constituencies.show()"
   ]
  },
  {
   "cell_type": "markdown",
   "id": "55da43ec-87ef-4b1c-9972-67b194ffe5ff",
   "metadata": {},
   "source": [
    "# Insight 8: Party strongholds by average margin"
   ]
  },
  {
   "cell_type": "code",
   "execution_count": 41,
   "id": "42733c2e-4634-4b61-bcb6-41a56f327323",
   "metadata": {},
   "outputs": [
    {
     "name": "stdout",
     "output_type": "stream",
     "text": [
      "+--------------------+-------------------+-----------+\n",
      "|               Party|  Constituency_Name|avg(Margin)|\n",
      "+--------------------+-------------------+-----------+\n",
      "|Bharatiya Janata ...|             INDORE|  1175092.0|\n",
      "|Indian National C...|            Dhubri |  1012476.0|\n",
      "|Bharatiya Janata ...|            VIDISHA|   821408.0|\n",
      "|Bharatiya Janata ...|            Navsari|   773551.0|\n",
      "|Bharatiya Janata ...|        Gandhinagar|   744716.0|\n",
      "|All India Trinamo...|    Diamond harbour|   710930.0|\n",
      "|Bharatiya Janata ...|       Tripura West|   611578.0|\n",
      "|Bharatiya Janata ...|           Vadodara|   582126.0|\n",
      "|Bharatiya Janata ...|             RAIPUR|   575285.0|\n",
      "|Indian National C...|         TIRUVALLUR|   572155.0|\n",
      "|Indian National C...|           Nalgonda|   559905.0|\n",
      "|Bharatiya Janata ...|Gautam Buddha Nagar|   559472.0|\n",
      "|Bharatiya Janata ...|          KHAJURAHO|   541229.0|\n",
      "|Bharatiya Janata ...|               GUNA|   540929.0|\n",
      "|Bharatiya Janata ...|         Panchmahal|   509342.0|\n",
      "|        Telugu Desam|      Visakhapatnam|   504247.0|\n",
      "|Bharatiya Janata ...|             BHOPAL|   501499.0|\n",
      "|Bharatiya Janata ...|           MANDSOUR|   500655.0|\n",
      "|Dravida Munnetra ...|      SRIPERUMBUDUR|   487029.0|\n",
      "|Bharatiya Janata ...|       Tripura East|   486819.0|\n",
      "+--------------------+-------------------+-----------+\n",
      "only showing top 20 rows\n",
      "\n"
     ]
    }
   ],
   "source": [
    "party_strongholds = df.groupBy(\"Party\", \"Constituency_Name\").avg(\"Margin\").orderBy(\"avg(Margin)\", ascending=False)\n",
    "party_strongholds.show()"
   ]
  },
  {
   "cell_type": "markdown",
   "id": "396cd0c6-0bf8-478a-a4c6-1dc725d8464d",
   "metadata": {},
   "source": [
    "# Insight 9: No of seats won by each party"
   ]
  },
  {
   "cell_type": "code",
   "execution_count": 46,
   "id": "0d433447-9eeb-4b32-9e5b-0e2a83e313dc",
   "metadata": {},
   "outputs": [
    {
     "name": "stdout",
     "output_type": "stream",
     "text": [
      "+--------------------+-----+\n",
      "|               Party|count|\n",
      "+--------------------+-----+\n",
      "|Bharatiya Janata ...|  240|\n",
      "|Indian National C...|   99|\n",
      "|     Samajwadi Party|   37|\n",
      "|All India Trinamo...|   29|\n",
      "|Dravida Munnetra ...|   22|\n",
      "+--------------------+-----+\n",
      "only showing top 5 rows\n",
      "\n"
     ]
    }
   ],
   "source": [
    "df.groupBy(\"Party\").count().orderBy(\"count\", ascending = False).show(5)"
   ]
  },
  {
   "cell_type": "markdown",
   "id": "f979531d-b34b-48cd-917f-bbdbd262a23f",
   "metadata": {},
   "source": [
    "# Insight 10: Voting Efficiency\n",
    "1. Calculate the ratio of total votes to margin for each candidate to measure “voting efficiency.” \n",
    "2. Candidates with high ratios are winning by large margins with fewer votes, indicating more efficient voter mobilization."
   ]
  },
  {
   "cell_type": "code",
   "execution_count": 24,
   "id": "f967d2ce-a16f-4efa-b59d-8b4dff198717",
   "metadata": {},
   "outputs": [
    {
     "name": "stdout",
     "output_type": "stream",
     "text": [
      "+--------------------+--------------------+-----------+------+-----------------+-------------------+------------------+\n",
      "|               Party|           Candidate|Total Votes|Margin|Constituency_Name|Constituency_Number| Voting Efficiency|\n",
      "+--------------------+--------------------+-----------+------+-----------------+-------------------+------------------+\n",
      "|           Shiv Sena|RAVINDRA DATTARAM...|     452644|    48|Mumbai North West|                 27| 9430.083333333334|\n",
      "|Indian National C...|   ADV ADOOR PRAKASH|     328051|   684|         Attingal|                 19| 479.6067251461988|\n",
      "|Bharatiya Janata ...|  RAO RAJENDRA SINGH|     617877|  1615|     JAIPUR RURAL|                  6| 382.5863777089783|\n",
      "|Bharatiya Janata ...|RABINDRA NARAYAN ...|     534239|  1587|           Jajpur|                  8| 336.6345305608066|\n",
      "|Bharatiya Janata ...|         BHOJRAJ NAG|     597624|  1884|           KANKER|                 11|317.21019108280257|\n",
      "+--------------------+--------------------+-----------+------+-----------------+-------------------+------------------+\n",
      "only showing top 5 rows\n",
      "\n"
     ]
    }
   ],
   "source": [
    "from pyspark.sql.functions import expr\n",
    "vote_efficiency_df = df.withColumn(\"Voting Efficiency\", (col(\"Total Votes\") / col(\"Margin\")))\n",
    "vote_efficiency_df.orderBy(\"Voting Efficiency\", ascending = False).show(5)"
   ]
  }
 ],
 "metadata": {
  "kernelspec": {
   "display_name": "Python 3 (ipykernel)",
   "language": "python",
   "name": "python3"
  },
  "language_info": {
   "codemirror_mode": {
    "name": "ipython",
    "version": 3
   },
   "file_extension": ".py",
   "mimetype": "text/x-python",
   "name": "python",
   "nbconvert_exporter": "python",
   "pygments_lexer": "ipython3",
   "version": "3.12.3"
  }
 },
 "nbformat": 4,
 "nbformat_minor": 5
}
